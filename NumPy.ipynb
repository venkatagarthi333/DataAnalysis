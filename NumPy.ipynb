{
  "cells": [
    {
      "cell_type": "code",
      "execution_count": null,
      "metadata": {
        "colab": {
          "base_uri": "https://localhost:8080/"
        },
        "id": "NVWkhwgHdo58",
        "outputId": "0531258b-f2f2-4e4e-dd01-74096ed6785f"
      },
      "outputs": [
        {
          "name": "stdout",
          "output_type": "stream",
          "text": [
            "[1 2 3 4 5]\n"
          ]
        }
      ],
      "source": [
        "import numpy as np\n",
        "#creating arrays\n",
        "arr=np.array([1,2,3,4,5])\n",
        "print(arr)"
      ]
    },
    {
      "cell_type": "code",
      "execution_count": null,
      "metadata": {
        "colab": {
          "base_uri": "https://localhost:8080/"
        },
        "id": "J9S3-7pAqwgS",
        "outputId": "01eb8956-0bbc-490f-9eea-f0678ff99a1f"
      },
      "outputs": [
        {
          "name": "stdout",
          "output_type": "stream",
          "text": [
            "[[0 0 0]\n",
            " [0 0 0]\n",
            " [0 0 0]]\n",
            "[[1 1]\n",
            " [1 1]]\n",
            "[0 1 2 3 4 5 6 7 8 9]\n",
            "[[1]\n",
            " [2]\n",
            " [3]\n",
            " [4]\n",
            " [5]]\n"
          ]
        }
      ],
      "source": [
        "#to print zeros,ones in a matrix\n",
        "zeros_arr=np.zeros((3,3),dtype=int)\n",
        "print(zeros_arr)\n",
        "ones_arr=np.ones((2,2),dtype=int)\n",
        "print(ones_arr)\n",
        "arange_arr=np.arange(10)\n",
        "print(arange_arr)\n",
        "#array manipulation\n",
        "arr=np.array([1,2,3,4,5])\n",
        "reshaped_arr=arr.reshape(5,1)\n",
        "print(reshaped_arr)\n",
        "\n",
        "\n"
      ]
    },
    {
      "cell_type": "code",
      "execution_count": null,
      "metadata": {
        "colab": {
          "base_uri": "https://localhost:8080/"
        },
        "id": "6LhXpVk5tQVH",
        "outputId": "d9d25f6d-56dc-4d05-d98e-8695873d7fb2"
      },
      "outputs": [
        {
          "name": "stdout",
          "output_type": "stream",
          "text": [
            "[3 4]\n"
          ]
        }
      ],
      "source": [
        "#slicing\n",
        "arr=np.array([1,2,3,4,5])\n",
        "sliced_arr=arr[2:4]\n",
        "print(sliced_arr)"
      ]
    },
    {
      "cell_type": "code",
      "execution_count": null,
      "metadata": {
        "colab": {
          "base_uri": "https://localhost:8080/"
        },
        "id": "MAaRCQidtm34",
        "outputId": "8889b2c0-8e89-410b-a927-40758d1937ff"
      },
      "outputs": [
        {
          "name": "stdout",
          "output_type": "stream",
          "text": [
            "[1 2 3 4 5 6 7 8]\n"
          ]
        }
      ],
      "source": [
        "#transpose of array\n",
        "a=np.array([1,2,3,4,5,6,7,8])\n",
        "b=a.T\n",
        "print(b)"
      ]
    },
    {
      "cell_type": "code",
      "execution_count": null,
      "metadata": {
        "colab": {
          "base_uri": "https://localhost:8080/"
        },
        "id": "IUJ0yKHysFwc",
        "outputId": "585ff982-d75b-4f5d-b9ea-f8da9a0e0962"
      },
      "outputs": [
        {
          "name": "stdout",
          "output_type": "stream",
          "text": [
            "[array([1, 2]), array([3, 4]), array([5, 6]), array([7, 8])]\n"
          ]
        }
      ],
      "source": [
        "#split\n",
        "b=np.split(a,4)\n",
        "print(b)"
      ]
    },
    {
      "cell_type": "code",
      "execution_count": 5,
      "metadata": {
        "id": "S-e-ChVcwG5J",
        "colab": {
          "base_uri": "https://localhost:8080/"
        },
        "outputId": "4fc9858d-472d-4b86-d99b-27f240ab120f"
      },
      "outputs": [
        {
          "output_type": "stream",
          "name": "stdout",
          "text": [
            "[[19 22]\n",
            " [43 50]]\n",
            "EigResult(eigenvalues=array([5.80198014e-02, 6.89419802e+01]), eigenvectors=array([[-0.75781077, -0.40313049],\n",
            "       [ 0.65247439, -0.91514251]]))\n"
          ]
        }
      ],
      "source": [
        "#matrix multiplication\n",
        "a=np.array([[1,2],[3,4]])\n",
        "b=np.array([[5,6],[7,8]])\n",
        "c=np.dot(a,b)\n",
        "print(c)\n",
        "#linear algebra eigen vaue\n",
        "d=np.linalg.eig(c)\n",
        "print(d)"
      ]
    },
    {
      "cell_type": "code",
      "execution_count": null,
      "metadata": {
        "colab": {
          "base_uri": "https://localhost:8080/"
        },
        "id": "r3WKG5VM0k5W",
        "outputId": "2eb79ed9-f802-4605-9eb6-44616194dc90"
      },
      "outputs": [
        {
          "name": "stdout",
          "output_type": "stream",
          "text": [
            "None\n",
            "[12345   514     3]\n"
          ]
        }
      ],
      "source": [
        "#to load file and save the output as file\n",
        "data=np.loadtxt(\"/content/drive/MyDrive/DATASET/data1.txt\",dtype=int)\n",
        "d=np.savetxt(\"/content/date.txt\",data)\n",
        "print(d)\n",
        "print(data)"
      ]
    },
    {
      "cell_type": "code",
      "execution_count": null,
      "metadata": {
        "colab": {
          "base_uri": "https://localhost:8080/"
        },
        "id": "rWLHvXsDNRGZ",
        "outputId": "84ad056a-2f84-402e-b41b-e6fe7d93b026"
      },
      "outputs": [
        {
          "name": "stdout",
          "output_type": "stream",
          "text": [
            "[ 0  5 10 15 20 25 30 35 40 45 50 55 60 65 70 75 80 85 90 95]\n"
          ]
        }
      ],
      "source": [
        "#to save the output as a file\n",
        "arr=np.arange(0,100,5)\n",
        "print(arr)\n",
        "f=np.savetxt(\"/content/output.txt\",arr)\n"
      ]
    },
    {
      "cell_type": "code",
      "execution_count": null,
      "metadata": {
        "colab": {
          "base_uri": "https://localhost:8080/"
        },
        "id": "ZgmwKx6jR_zs",
        "outputId": "510a2fdc-3351-4a80-91a8-810d7c82f28b"
      },
      "outputs": [
        {
          "name": "stdout",
          "output_type": "stream",
          "text": [
            "0.4077004295778912\n",
            "<class 'float'>\n",
            "4\n"
          ]
        }
      ],
      "source": [
        "#random()\n",
        "a=np.random.rand()\n",
        "print(a)\n",
        "print(type(a))\n",
        "a=np.random.randint(0,7)\n",
        "print(a)\n",
        "a=np."
      ]
    },
    {
      "cell_type": "code",
      "execution_count": 6,
      "metadata": {
        "id": "Z3fOWj9YSkw_",
        "colab": {
          "base_uri": "https://localhost:8080/"
        },
        "outputId": "0e3b4f96-aa47-4b74-8e59-7a91ef644bd9"
      },
      "outputs": [
        {
          "output_type": "stream",
          "name": "stdout",
          "text": [
            "[[1 2]\n",
            " [3 4]]\n",
            "<class 'numpy.ndarray'>\n",
            "2\n",
            "(2, 2)\n"
          ]
        }
      ],
      "source": [
        "a=np.array([[1,2],[3,4]])\n",
        "print(a)\n",
        "#data type #dimensional #shape\n",
        "print(type(a))\n",
        "print(a.ndim)\n",
        "print(a.shape)"
      ]
    },
    {
      "cell_type": "code",
      "execution_count": 7,
      "metadata": {
        "id": "XWB6tx6UUFJL",
        "colab": {
          "base_uri": "https://localhost:8080/"
        },
        "outputId": "bfceeb4c-9797-4a58-87d8-11517f5a0b8e"
      },
      "outputs": [
        {
          "output_type": "stream",
          "name": "stdout",
          "text": [
            "[0.8 1.1 1.4 1.7 2. ]\n",
            "[[0 1 2]\n",
            " [3 4 5]]\n"
          ]
        }
      ],
      "source": [
        "#linspace()\n",
        "a=np.linspace(0.8,2,5)\n",
        "print(a)\n",
        "arr=np.arange(6).reshape(2,3)\n",
        "print(arr)\n",
        "\n"
      ]
    },
    {
      "cell_type": "code",
      "execution_count": 8,
      "metadata": {
        "id": "dYPAfNSOVbl9",
        "colab": {
          "base_uri": "https://localhost:8080/"
        },
        "outputId": "7fabc609-d0b9-44f7-93dd-867e288dc777"
      },
      "outputs": [
        {
          "output_type": "stream",
          "name": "stdout",
          "text": [
            "[[[ 0  1  2  3]\n",
            "  [ 4  5  6  7]\n",
            "  [ 8  9 10 11]]\n",
            "\n",
            " [[12 13 14 15]\n",
            "  [16 17 18 19]\n",
            "  [20 21 22 23]]]\n"
          ]
        }
      ],
      "source": [
        "#matrx using arange and reshape\n",
        "arr=np.arange(24).reshape(2,3,4)\n",
        "print(arr)"
      ]
    },
    {
      "cell_type": "code",
      "execution_count": 9,
      "metadata": {
        "id": "SS0Ry39yWYhg",
        "colab": {
          "base_uri": "https://localhost:8080/"
        },
        "outputId": "34abddf0-a7b4-4bfe-ec33-e5bdb105286a"
      },
      "outputs": [
        {
          "output_type": "stream",
          "name": "stdout",
          "text": [
            "[[ 5 12]\n",
            " [21 32]]\n",
            "[[19 22]\n",
            " [43 50]]\n",
            "[[19 22]\n",
            " [43 50]]\n"
          ]
        }
      ],
      "source": [
        "#mtrix multiplication\n",
        "a=np.array([[1,2],[3,4]])\n",
        "b=np.array([[5,6],[7,8]])\n",
        "print(a*b)\n",
        "print(a@b)\n",
        "print(np.dot(a,b))"
      ]
    },
    {
      "cell_type": "code",
      "execution_count": 10,
      "metadata": {
        "id": "_sG4TSzfa8lv",
        "colab": {
          "base_uri": "https://localhost:8080/"
        },
        "outputId": "56088ea0-e138-466c-afe3-80196bea0f61"
      },
      "outputs": [
        {
          "output_type": "stream",
          "name": "stdout",
          "text": [
            "[[1. 1. 1. 1.]\n",
            " [1. 1. 1. 1.]]\n",
            "[[0.08948399 0.31837515 0.84274558 0.14317247]\n",
            " [0.85214778 0.62270443 0.69686795 0.85619118]]\n"
          ]
        }
      ],
      "source": [
        "#floor() ceil()\n",
        "a=np.ceil(np.random.random((2,4)))\n",
        "print(a)\n",
        "c=np.random.random((2,4))\n",
        "print(c)"
      ]
    },
    {
      "cell_type": "code",
      "execution_count": 11,
      "metadata": {
        "id": "Ieckt0e0cqGO",
        "colab": {
          "base_uri": "https://localhost:8080/"
        },
        "outputId": "393010bc-a76a-481c-bcd8-0456c75ece99"
      },
      "outputs": [
        {
          "output_type": "stream",
          "name": "stdout",
          "text": [
            "4\n",
            "[2 4]\n",
            "[3 4]\n",
            "1\n",
            "[1 3]\n",
            "[1 2]\n"
          ]
        }
      ],
      "source": [
        "#min and max\n",
        "a=np.array([[1,2],[3,4]],dtype=int)\n",
        "print(a.max())\n",
        "print(a.max(axis=1))\n",
        "print(a.max(axis=0))\n",
        "print(a.min())\n",
        "print(a.min(axis=1))\n",
        "print(a.min(axis=0))"
      ]
    },
    {
      "cell_type": "code",
      "execution_count": 12,
      "metadata": {
        "id": "TqYGq6EqdWJ2",
        "colab": {
          "base_uri": "https://localhost:8080/"
        },
        "outputId": "1e55be2b-36f2-4ceb-9ad4-db6108e16edf"
      },
      "outputs": [
        {
          "output_type": "stream",
          "name": "stdout",
          "text": [
            "[[1 3]\n",
            " [3 7]]\n"
          ]
        }
      ],
      "source": [
        "#cumsum()\n",
        "a=np.array([[1,2],[3,4]],dtype=int)\n",
        "print(a.cumsum(axis=1))\n"
      ]
    },
    {
      "cell_type": "code",
      "execution_count": 13,
      "metadata": {
        "id": "NcuJ_S--eZdW",
        "colab": {
          "base_uri": "https://localhost:8080/"
        },
        "outputId": "11290f0a-7210-4d03-8b7a-489559b88d1f"
      },
      "outputs": [
        {
          "output_type": "stream",
          "name": "stdout",
          "text": [
            "[[1 2 3]\n",
            " [4 5 6]]\n",
            "(2, 3)\n",
            "None\n"
          ]
        }
      ],
      "source": [
        "\n",
        "#resize)\n",
        "a=np.array([1,2,3,4,5,6])\n",
        "\n",
        "b=a.resize(2,3)\n",
        "print(a)\n",
        "print(a.shape)\n",
        "print(b)"
      ]
    },
    {
      "cell_type": "code",
      "execution_count": 14,
      "metadata": {
        "id": "hSl9YcXofqAB",
        "colab": {
          "base_uri": "https://localhost:8080/"
        },
        "outputId": "53b3e3fc-b9f8-4c9a-c26c-14e4aa181bd0"
      },
      "outputs": [
        {
          "output_type": "stream",
          "name": "stdout",
          "text": [
            "[[1 2 3]\n",
            " [4 5 6]\n",
            " [2 4 5]\n",
            " [6 8 7]]\n"
          ]
        }
      ],
      "source": [
        "#vstack\n",
        "a=np.array([1,2,3,4,5,6])\n",
        "a.resize(2,3)\n",
        "b=np.array([2,4,5,6,8,7])\n",
        "b.resize(2,3)\n",
        "print(np.vstack((a,b)))"
      ]
    },
    {
      "cell_type": "markdown",
      "metadata": {
        "id": "MjOGUtdJirLc"
      },
      "source": []
    },
    {
      "cell_type": "code",
      "execution_count": 15,
      "metadata": {
        "id": "0K9mKjNNjN_V",
        "colab": {
          "base_uri": "https://localhost:8080/"
        },
        "outputId": "c7422f6f-4c93-49ee-a0c0-683011a11918"
      },
      "outputs": [
        {
          "output_type": "stream",
          "name": "stdout",
          "text": [
            "[[1 2 3 2 4 5]\n",
            " [4 5 6 6 8 7]]\n"
          ]
        }
      ],
      "source": [
        "\n",
        "#hstack\n",
        "a=np.array([1,2,3,4,5,6])\n",
        "a.resize(2,3)\n",
        "b=np.array([2,4,5,6,8,7])\n",
        "b.resize(2,3)\n",
        "print(np.hstack((a,b)))"
      ]
    },
    {
      "cell_type": "markdown",
      "metadata": {
        "id": "z6b4tWP1iwwL"
      },
      "source": [
        "\n",
        "no.rows become no.groups\n",
        "column becomes row\n",
        "group becomes column"
      ]
    },
    {
      "cell_type": "code",
      "execution_count": 16,
      "metadata": {
        "id": "8qt2AJfwjRGC",
        "colab": {
          "base_uri": "https://localhost:8080/"
        },
        "outputId": "1fe8ccb0-e7eb-4441-9a2f-968218ec0d5d"
      },
      "outputs": [
        {
          "output_type": "stream",
          "name": "stdout",
          "text": [
            "[[[ 0  1  2  3  4]\n",
            "  [ 5  6  7  8  9]\n",
            "  [10 11 12 13 14]]\n",
            "\n",
            " [[15 16 17 18 19]\n",
            "  [20 21 22 23 24]\n",
            "  [25 26 27 28 29]]]\n",
            "[[[ 0 15]\n",
            "  [ 1 16]\n",
            "  [ 2 17]\n",
            "  [ 3 18]\n",
            "  [ 4 19]]\n",
            "\n",
            " [[ 5 20]\n",
            "  [ 6 21]\n",
            "  [ 7 22]\n",
            "  [ 8 23]\n",
            "  [ 9 24]]\n",
            "\n",
            " [[10 25]\n",
            "  [11 26]\n",
            "  [12 27]\n",
            "  [13 28]\n",
            "  [14 29]]]\n"
          ]
        }
      ],
      "source": [
        "#dstack\n",
        "a=np.arange(0,30).reshape(2,3,5)\n",
        "print(a)\n",
        "print(np.dstack(a))"
      ]
    },
    {
      "cell_type": "code",
      "execution_count": null,
      "metadata": {
        "colab": {
          "base_uri": "https://localhost:8080/"
        },
        "id": "rwHaSQvbZg4d",
        "outputId": "344ea0a3-6ba7-4b7e-8372-20a4deed6fbc"
      },
      "outputs": [
        {
          "name": "stdout",
          "output_type": "stream",
          "text": [
            "[[1. 0. 0. 0.]\n",
            " [0. 1. 0. 0.]\n",
            " [0. 0. 1. 0.]\n",
            " [0. 0. 0. 1.]]\n"
          ]
        }
      ],
      "source": [
        "#eye()\n",
        "a=np.eye(4)\n",
        "print(a)"
      ]
    },
    {
      "cell_type": "code",
      "execution_count": null,
      "metadata": {
        "colab": {
          "base_uri": "https://localhost:8080/"
        },
        "id": "nyGxviO5ZwXb",
        "outputId": "259b1393-ee69-47c1-e0c0-f085b27ffaa3"
      },
      "outputs": [
        {
          "name": "stdout",
          "output_type": "stream",
          "text": [
            "[[3 3]\n",
            " [3 3]]\n",
            "8\n"
          ]
        }
      ],
      "source": [
        "a=np.full((2,2),3)\n",
        "print(a)\n",
        "print(a.itemsize)"
      ]
    },
    {
      "cell_type": "code",
      "execution_count": null,
      "metadata": {
        "colab": {
          "base_uri": "https://localhost:8080/"
        },
        "id": "SGaOMGaRaOyy",
        "outputId": "fbef118b-148c-4ad0-9dd5-80e55cbdc518"
      },
      "outputs": [
        {
          "name": "stdout",
          "output_type": "stream",
          "text": [
            "[1 2 3]\n",
            "<class 'numpy.ndarray'>\n"
          ]
        }
      ],
      "source": [
        "x=[1,2,3]\n",
        "a=np.asarray(x)\n",
        "print(a)\n",
        "print(type(a))"
      ]
    },
    {
      "cell_type": "code",
      "execution_count": null,
      "metadata": {
        "colab": {
          "base_uri": "https://localhost:8080/"
        },
        "id": "xsfP81BZasD2",
        "outputId": "c265126a-88af-417c-c6dc-46da3f217f13"
      },
      "outputs": [
        {
          "name": "stdout",
          "output_type": "stream",
          "text": [
            "10.0\n",
            "[[2. 2. 1.]\n",
            " [8. 8. 4.]\n",
            " [0. 0. 0.]]\n",
            "[ 4. -1. -6.]\n"
          ]
        }
      ],
      "source": [
        "x=np.array([1,4,0],float)#sum of multiplication\n",
        "y=np.array([2,2,1],float)\n",
        "print(np.inner(x,y))#sum of multiplication\n",
        "print(np.outer(x,y))#y multiplies x\n",
        "print(np.cross(x,y))#"
      ]
    },
    {
      "cell_type": "markdown",
      "metadata": {
        "id": "dWTIYvV9csDd"
      },
      "source": [
        "1 x 2  \n",
        "4 - 2\n",
        "0 - 2\n",
        "\n",
        "1 x 2\n",
        "4 - 2\n",
        "0 - 2"
      ]
    },
    {
      "cell_type": "code",
      "execution_count": null,
      "metadata": {
        "colab": {
          "base_uri": "https://localhost:8080/"
        },
        "id": "tfYIy423c7Oe",
        "outputId": "c37903a9-4234-43a7-804e-c146848b4839"
      },
      "outputs": [
        {
          "data": {
            "text/plain": [
              "array([1., 2., 3., 4., 6., 7.])"
            ]
          },
          "execution_count": 58,
          "metadata": {},
          "output_type": "execute_result"
        }
      ],
      "source": [
        "#rint() #close value\n",
        "a=np.array([1.1,2.2,3.3,4.4,5.5,6.6])\n",
        "np.rint(a)"
      ]
    },
    {
      "cell_type": "code",
      "execution_count": null,
      "metadata": {
        "colab": {
          "base_uri": "https://localhost:8080/"
        },
        "id": "LoRhnjePdZep",
        "outputId": "d8b3db7c-49dd-40df-9a88-44cc1b4de641"
      },
      "outputs": [
        {
          "data": {
            "text/plain": [
              "array([[0.2       , 0.33333333, 0.42857143, 0.5       , 0.55555556]])"
            ]
          },
          "execution_count": 59,
          "metadata": {},
          "output_type": "execute_result"
        }
      ],
      "source": [
        "#truedivide()\n",
        "a=np.array([[1,2,3,4,5]])\n",
        "b=np.array([[5,6,7,8,9]])\n",
        "np.true_divide(a,b)"
      ]
    },
    {
      "cell_type": "code",
      "execution_count": null,
      "metadata": {
        "colab": {
          "base_uri": "https://localhost:8080/"
        },
        "id": "4JyhwmjyeRpG",
        "outputId": "57fcffce-4df9-4a05-d1a2-5b77fd99ef7a"
      },
      "outputs": [
        {
          "data": {
            "text/plain": [
              "array([1, 2, 3, 4, 5])"
            ]
          },
          "execution_count": 16,
          "metadata": {},
          "output_type": "execute_result"
        }
      ],
      "source": [
        "#unique\n",
        "a=np.array([1,1,2,2,3,3,4,4,5,5])\n",
        "np.unique(a)\n"
      ]
    },
    {
      "cell_type": "code",
      "execution_count": null,
      "metadata": {
        "colab": {
          "base_uri": "https://localhost:8080/"
        },
        "id": "Rj4f8tvIepV0",
        "outputId": "65c544ad-4730-4add-8f18-1f3b2da8faa3"
      },
      "outputs": [
        {
          "data": {
            "text/plain": [
              "array([1, 2, 3, 4, 7, 8])"
            ]
          },
          "execution_count": 18,
          "metadata": {},
          "output_type": "execute_result"
        }
      ],
      "source": [
        "#union1d() removes duplicate\n",
        "a=np.array([[1,2],[3,4]])\n",
        "b=np.array([[1,2],[7,8]])\n",
        "np.union1d(a,b)"
      ]
    },
    {
      "cell_type": "code",
      "execution_count": null,
      "metadata": {
        "colab": {
          "base_uri": "https://localhost:8080/"
        },
        "id": "WpSMcG9Eft_t",
        "outputId": "8a71843d-4398-48dd-fada-6adf1c3a041f"
      },
      "outputs": [
        {
          "data": {
            "text/plain": [
              "array([1, 2])"
            ]
          },
          "execution_count": 20,
          "metadata": {},
          "output_type": "execute_result"
        }
      ],
      "source": [
        "a=np.array([[1,2],[3,4]])\n",
        "b=np.array([[1,2],[7,8]])\n",
        "np.intersect1d(a,b)"
      ]
    },
    {
      "cell_type": "code",
      "execution_count": null,
      "metadata": {
        "colab": {
          "base_uri": "https://localhost:8080/"
        },
        "id": "wgjkB5C-gAII",
        "outputId": "cd115793-d2fd-44a8-e174-dade4851720e"
      },
      "outputs": [
        {
          "data": {
            "text/plain": [
              "array([1, 2, 3, 4])"
            ]
          },
          "execution_count": 62,
          "metadata": {},
          "output_type": "execute_result"
        }
      ],
      "source": [
        "import numpy as np\n",
        "a=np.array([[1,2],[3,4]])\n",
        "b=np.array([[5,6],[7,8]])\n",
        "np.setdiff1d(a,b)"
      ]
    },
    {
      "cell_type": "code",
      "execution_count": null,
      "metadata": {
        "colab": {
          "base_uri": "https://localhost:8080/"
        },
        "id": "7Kka5nochHQg",
        "outputId": "f898074a-1744-4b4b-cf6a-cbc88511bbfc"
      },
      "outputs": [
        {
          "name": "stdout",
          "output_type": "stream",
          "text": [
            "10.0\n"
          ]
        }
      ],
      "source": [
        "#hypot\n",
        "a=8\n",
        "b=6\n",
        "c=np.hypot(a,b)\n",
        "print(c)"
      ]
    },
    {
      "cell_type": "code",
      "execution_count": null,
      "metadata": {
        "colab": {
          "base_uri": "https://localhost:8080/"
        },
        "id": "Ztc6fFXohWl4",
        "outputId": "7dd41248-834b-44bf-8dc4-019bef2cce80"
      },
      "outputs": [
        {
          "name": "stdout",
          "output_type": "stream",
          "text": [
            "0.0\n"
          ]
        }
      ],
      "source": [
        "x=np.sin(0)\n",
        "print(x)"
      ]
    },
    {
      "cell_type": "code",
      "execution_count": null,
      "metadata": {
        "colab": {
          "base_uri": "https://localhost:8080/"
        },
        "id": "erckvJlzhei0",
        "outputId": "47cc6256-b829-4606-86a0-2a608193a235"
      },
      "outputs": [
        {
          "name": "stdout",
          "output_type": "stream",
          "text": [
            "(array([ 0,  1, 15,  2,  2,  2]), array([10,  0,  0,  0,  0, 10]))\n"
          ]
        }
      ],
      "source": [
        "#divmod() quotient and remainder\n",
        "a=np.array([10,21,30,40,50,60])\n",
        "b=np.array([20,21,2,20,25,25])\n",
        "c=np.divmod(a,b)\n",
        "print(c)"
      ]
    },
    {
      "cell_type": "code",
      "execution_count": null,
      "metadata": {
        "colab": {
          "base_uri": "https://localhost:8080/"
        },
        "id": "WTzb7QFgid0G",
        "outputId": "cb12c2e9-fc58-402d-a68e-81244c11e7a6"
      },
      "outputs": [
        {
          "name": "stdout",
          "output_type": "stream",
          "text": [
            "[10  0  0  0  0 10]\n",
            "[ 0.5  1.  15.   2.   2.   2.4]\n"
          ]
        }
      ],
      "source": [
        "a=np.array([10,21,30,40,50,60])\n",
        "b=np.array([20,21,2,20,25,25])\n",
        "c=np.mod(a,b)#remainder\n",
        "print(c)\n",
        "a=np.array([10,21,30,40,50,60])\n",
        "b=np.array([20,21,2,20,25,25])\n",
        "c=np.divide(a,b)#exact answer\n",
        "print(c)"
      ]
    },
    {
      "cell_type": "code",
      "execution_count": 17,
      "metadata": {
        "id": "iTebd41TjDIH",
        "colab": {
          "base_uri": "https://localhost:8080/"
        },
        "outputId": "6eea49d5-69f6-4804-8dc2-8530566b68df"
      },
      "outputs": [
        {
          "output_type": "stream",
          "name": "stdout",
          "text": [
            "[[ 5 12]\n",
            " [21 32]]\n"
          ]
        },
        {
          "output_type": "execute_result",
          "data": {
            "text/plain": [
              "array([[ 5, 12],\n",
              "       [21, 32]])"
            ]
          },
          "metadata": {},
          "execution_count": 17
        }
      ],
      "source": [
        "#multiply()\n",
        "a=np.array([[1,2],[3,4]])\n",
        "b=np.array([[5,6],[7,8]])\n",
        "print(a*b)\n",
        "np.multiply(a,b)"
      ]
    },
    {
      "cell_type": "code",
      "execution_count": null,
      "metadata": {
        "colab": {
          "base_uri": "https://localhost:8080/"
        },
        "id": "OEApqLnkjRK7",
        "outputId": "d10571d0-5737-4c02-e982-bb2977d62e6a"
      },
      "outputs": [
        {
          "name": "stdout",
          "output_type": "stream",
          "text": [
            "[2.77586187 4.8734169 ]\n"
          ]
        }
      ],
      "source": [
        "from numpy import random\n",
        "x=random.normal((2,3))\n",
        "print(x)"
      ]
    },
    {
      "cell_type": "code",
      "execution_count": null,
      "metadata": {
        "colab": {
          "base_uri": "https://localhost:8080/"
        },
        "id": "RbI3U95HjsjU",
        "outputId": "e468e208-8b65-4d28-af6c-75427f25990b"
      },
      "outputs": [
        {
          "name": "stdout",
          "output_type": "stream",
          "text": [
            "[[ 3.96337336  2.92814977  1.53691232]\n",
            " [ 1.35619808  1.75945566 -1.7110377 ]]\n"
          ]
        }
      ],
      "source": [
        "x = random.normal(loc=1, scale=2, size=(2, 3))#mean standar deviation\n",
        "print(x)"
      ]
    },
    {
      "cell_type": "code",
      "execution_count": null,
      "metadata": {
        "colab": {
          "base_uri": "https://localhost:8080/"
        },
        "id": "FnkS87dSloUB",
        "outputId": "c794188c-97a5-4ab4-bfee-67830b090e6a"
      },
      "outputs": [
        {
          "name": "stdout",
          "output_type": "stream",
          "text": [
            "[6 8 6 6 6 8 4 6 6 6]\n"
          ]
        }
      ],
      "source": [
        "x=random.binomial(n=12,p=0.5,size=10)#trials #probabiltyq\n",
        "print(x)"
      ]
    },
    {
      "cell_type": "code",
      "execution_count": null,
      "metadata": {
        "colab": {
          "base_uri": "https://localhost:8080/"
        },
        "id": "2zE35YL2mDPH",
        "outputId": "93759527-a07d-4c6d-ce8b-f6dc4dafe786"
      },
      "outputs": [
        {
          "name": "stdout",
          "output_type": "stream",
          "text": [
            "[2 2 2 2 2 2 3 0 2 4]\n"
          ]
        }
      ],
      "source": [
        "a=random.poisson(lam=2,size=10)\n",
        "print(a)"
      ]
    },
    {
      "cell_type": "code",
      "execution_count": null,
      "metadata": {
        "colab": {
          "base_uri": "https://localhost:8080/"
        },
        "id": "SXnQ_gadmWOt",
        "outputId": "ad06db11-385e-499d-e65b-95fa35d9a10f"
      },
      "outputs": [
        {
          "name": "stdout",
          "output_type": "stream",
          "text": [
            "5\n"
          ]
        }
      ],
      "source": [
        "a=random.choice([1,3,5,6])\n",
        "print(a)"
      ]
    },
    {
      "cell_type": "code",
      "execution_count": null,
      "metadata": {
        "colab": {
          "base_uri": "https://localhost:8080/"
        },
        "id": "zztxU_nOmitq",
        "outputId": "d4fb3bed-c487-49da-8d8c-649bff84e699"
      },
      "outputs": [
        {
          "name": "stdout",
          "output_type": "stream",
          "text": [
            "[[5 3 3 5 5]\n",
            " [5 5 5 5 5]\n",
            " [3 5 5 5 5]]\n"
          ]
        }
      ],
      "source": [
        "a=random.choice([3,5],p=[0.2,0.8],size=(3,5))\n",
        "print(a)"
      ]
    },
    {
      "cell_type": "code",
      "execution_count": 18,
      "metadata": {
        "id": "oL4v4RYOmw29",
        "colab": {
          "base_uri": "https://localhost:8080/",
          "height": 452
        },
        "outputId": "6ca329c3-c8bf-4c9e-f3a8-345bd68647a5"
      },
      "outputs": [
        {
          "output_type": "display_data",
          "data": {
            "text/plain": [
              "<Figure size 640x480 with 1 Axes>"
            ],
            "image/png": "[encoded data removed]"
          },
          "metadata": {}
        }
      ],
      "source": [
        "import numpy as np\n",
        "import matplotlib.pyplot as plt\n",
        "runs=np.array([100,50,91,78,89,25,34,19,9,10])\n",
        "w=np.array([1,0,2,0,3,7,8,9,7,5])\n",
        "plt.scatter(w,runs,color='green',label='WICKETS')\n",
        "plt.title('Ind vs Aus score')\n",
        "plt.legend(loc='best')\n",
        "plt.show()"
      ]
    },
    {
      "cell_type": "code",
      "execution_count": 19,
      "metadata": {
        "id": "4YZd6JZ31-aZ",
        "colab": {
          "base_uri": "https://localhost:8080/",
          "height": 747
        },
        "outputId": "f6b22f75-831a-4f9a-ca69-dad42c7bd633"
      },
      "outputs": [
        {
          "output_type": "stream",
          "name": "stdout",
          "text": [
            "[-6.28318531 -6.15625227 -6.02931923 -5.9023862  -5.77545316 -5.64852012\n",
            " -5.52158709 -5.39465405 -5.26772102 -5.14078798 -5.01385494 -4.88692191\n",
            " -4.75998887 -4.63305583 -4.5061228  -4.37918976 -4.25225672 -4.12532369\n",
            " -3.99839065 -3.87145761 -3.74452458 -3.61759154 -3.4906585  -3.36372547\n",
            " -3.23679243 -3.10985939 -2.98292636 -2.85599332 -2.72906028 -2.60212725\n",
            " -2.47519421 -2.34826118 -2.22132814 -2.0943951  -1.96746207 -1.84052903\n",
            " -1.71359599 -1.58666296 -1.45972992 -1.33279688 -1.20586385 -1.07893081\n",
            " -0.95199777 -0.82506474 -0.6981317  -0.57119866 -0.44426563 -0.31733259\n",
            " -0.19039955 -0.06346652  0.06346652  0.19039955  0.31733259  0.44426563\n",
            "  0.57119866  0.6981317   0.82506474  0.95199777  1.07893081  1.20586385\n",
            "  1.33279688  1.45972992  1.58666296  1.71359599  1.84052903  1.96746207\n",
            "  2.0943951   2.22132814  2.34826118  2.47519421  2.60212725  2.72906028\n",
            "  2.85599332  2.98292636  3.10985939  3.23679243  3.36372547  3.4906585\n",
            "  3.61759154  3.74452458  3.87145761  3.99839065  4.12532369  4.25225672\n",
            "  4.37918976  4.5061228   4.63305583  4.75998887  4.88692191  5.01385494\n",
            "  5.14078798  5.26772102  5.39465405  5.52158709  5.64852012  5.77545316\n",
            "  5.9023862   6.02931923  6.15625227  6.28318531]\n"
          ]
        },
        {
          "output_type": "display_data",
          "data": {
            "text/plain": [
              "<Figure size 640x480 with 1 Axes>"
            ],
            "image/png": "[encoded data removed]"
          },
          "metadata": {}
        }
      ],
      "source": [
        "tigar=np.linspace(-2*np.pi,2*np.pi,100)\n",
        "print(tigar)\n",
        "\n",
        "plt.plot(tigar,np.sin(tigar),color=\"black\",linestyle=\"dotted\")\n",
        "plt.title(\"sin(x)\")\n",
        "plt.show()"
      ]
    },
    {
      "cell_type": "code",
      "execution_count": 20,
      "metadata": {
        "id": "TlgbHhua3lR1",
        "colab": {
          "base_uri": "https://localhost:8080/",
          "height": 430
        },
        "outputId": "370ab063-28d7-41d8-f518-b9f12d6cd6d9"
      },
      "outputs": [
        {
          "output_type": "display_data",
          "data": {
            "text/plain": [
              "<Figure size 640x480 with 1 Axes>"
            ],
            "image/png": "[encoded data removed]"
          },
          "metadata": {}
        }
      ],
      "source": [
        "overs=np.arange(5,50,5)\n",
        "overs_a=np.arange(5,30,5)\n",
        "runs_i=np.array([25,51,84,131,160,189,220,250,267])\n",
        "runs_a=np.array([15,41,94,110,151])\n",
        "plt.plot(overs,runs_i,color=\"blue\",label='India')\n",
        "\n",
        "plt.plot(overs_a,runs_a,color=\"yellow\",label='Aus')\n",
        "plt.legend(loc='best')\n",
        "plt.show()"
      ]
    },
    {
      "cell_type": "code",
      "execution_count": 21,
      "metadata": {
        "colab": {
          "base_uri": "https://localhost:8080/",
          "height": 430
        },
        "id": "2Wh6F9xC6V86",
        "outputId": "aa496e7e-cad7-47f1-9070-a875edf43dc3"
      },
      "outputs": [
        {
          "output_type": "display_data",
          "data": {
            "text/plain": [
              "<Figure size 640x480 with 2 Axes>"
            ],
            "image/png": "[encoded data removed]"
          },
          "metadata": {}
        }
      ],
      "source": [
        "a = [230,560,780,127,128]\n",
        "b = [200,160,270,127,400]\n",
        "years = [1,2,3,4]\n",
        "profit_a = [(a[i]-a[i-1]) for i in range(1,len(a))]\n",
        "profit_b = [(b[i]-b[i-1]) for i in range(1,len(b))]\n",
        "plt.subplot(2,1,2)\n",
        "plt.plot(years,profit_a,color='hotpink',linewidth = '6',label =\n",
        "'CompanyA',marker='.',ms='20',mec='k')\n",
        "plt.subplot(2,1,1)\n",
        "plt.plot(years,profit_b,color='black',linestyle='dotted',label =\n",
        "'CompanyB',marker = 'H')\n",
        "\n",
        "plt.show()"
      ]
    },
    {
      "cell_type": "code",
      "execution_count": 22,
      "metadata": {
        "id": "UbxCfmya9fuJ",
        "colab": {
          "base_uri": "https://localhost:8080/",
          "height": 406
        },
        "outputId": "e533dd49-7ea9-4e81-cd59-acb65b1efc2a"
      },
      "outputs": [
        {
          "output_type": "display_data",
          "data": {
            "text/plain": [
              "<Figure size 640x480 with 1 Axes>"
            ],
            "image/png": "[encoded data removed]"
          },
          "metadata": {}
        }
      ],
      "source": [
        "a = np.array([25,60,5,10])\n",
        "labe = [\"AIML\",\"Python\",\"Pandas\",\"Numpy\"]\n",
        "colors = ['green','blue','red','orange']\n",
        "plt.pie(a,labels = labe,colors=colors)\n",
        "plt.show()"
      ]
    },
    {
      "cell_type": "code",
      "execution_count": 23,
      "metadata": {
        "id": "j0HFN5dN_Imx",
        "colab": {
          "base_uri": "https://localhost:8080/",
          "height": 406
        },
        "outputId": "3d50f1d5-a828-4fbc-a2ad-b615950bf16f"
      },
      "outputs": [
        {
          "output_type": "display_data",
          "data": {
            "text/plain": [
              "<Figure size 640x480 with 1 Axes>"
            ],
            "image/png": "[encoded data removed]"
          },
          "metadata": {}
        }
      ],
      "source": [
        "#explode\n",
        "a = np.array([25,60,5,10])\n",
        "labe = [\"AIML\",\"Python\",\"Pandas\",\"Numpy\"]\n",
        "explo = [0.2,0,0,0]\n",
        "plt.pie(a,labels = labe,explode = explo,startangle = 180)\n",
        "plt.show()"
      ]
    }
  ],
  "metadata": {
    "colab": {
      "provenance": []
    },
    "kernelspec": {
      "display_name": "Python 3",
      "name": "python3"
    },
    "language_info": {
      "name": "python"
    }
  },
  "nbformat": 4,
  "nbformat_minor": 0
}